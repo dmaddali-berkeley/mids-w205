{
 "cells": [
  {
   "cell_type": "markdown",
   "id": "3f465500",
   "metadata": {},
   "source": [
    "# Project 2, Part 7, Executive summary\n",
    "\n",
    "University of California, Berkeley\n",
    "\n",
    "Master of Information and Data Science (MIDS) program\n",
    "\n",
    "w205 - Fundamentals of Data Engineering\n",
    "\n",
    "Student: Deepika Maddali\n",
    "\n",
    "Year: 2022\n",
    "\n",
    "Semester: Fall\n",
    "\n",
    "Section: 09\n"
   ]
  },
  {
   "cell_type": "markdown",
   "id": "33c6e20e",
   "metadata": {},
   "source": [
    "# Included Modules and Packages\n",
    "\n",
    "Code cell containing your includes for modules and packages"
   ]
  },
  {
   "cell_type": "code",
   "execution_count": null,
   "id": "63839f89",
   "metadata": {},
   "outputs": [],
   "source": []
  },
  {
   "cell_type": "markdown",
   "id": "c91c8869",
   "metadata": {},
   "source": [
    "# Supporting code\n",
    "\n",
    "Code cells containing any supporting code, such as connecting to the database, any functions, etc.  \n",
    "\n",
    "Remember you can freely use any code from the labs. You do not need to cite code from the labs."
   ]
  },
  {
   "cell_type": "code",
   "execution_count": null,
   "id": "5d21fb19",
   "metadata": {},
   "outputs": [],
   "source": []
  },
  {
   "cell_type": "markdown",
   "id": "d2e6beed",
   "metadata": {},
   "source": [
    "# 2.7.1 Executive summary\n",
    "\n",
    "Write an executive summary.  \n",
    "\n",
    "The summary should be the equivalent to 3/4 to 1 page using standard fonts, spacing, and margins. \n",
    "\n",
    "You may write about any aspect (or aspects).  Basically figure out what you think is the most import aspect (or aspects) that the executives would want to know.  \n",
    "\n",
    "It could be related to the process itself. Such as how you were able to take a dataset, load it into staging tables, and get analytics very quickly, instead of a months long traditional waterfall process. \n",
    "\n",
    "It could be related to the preliminary analytics.  Any insights you gained.  Possible comparison to the analytics from project 1.  Do the delivery sales have different patterns or the same patterns as in store sales?  Is this a good way to grow sales? etc.\n",
    "\n",
    "It could be related to both.\n",
    "\n",
    "You are not required to write any queries nor create any data visualizations.  However, you may want to include some to enhance and add quality to your submission.  Submissions with these tend to be higher quality, although, not always.\n",
    "\n",
    "You may use any number of code cells and/or markdown cells. \n",
    "\n",
    "You may alternate between code cells and markdown cells.  That is perfectly fine.  It is understood that before we present it, an editor would pull out the text, results of queries, and data visualizations."
   ]
  },
  {
   "cell_type": "code",
   "execution_count": null,
   "id": "b02be0e7",
   "metadata": {},
   "outputs": [],
   "source": [
    "Project deliverables: \n",
    "    The primary deliverables of the Acme Gourmet Meals (AGM) is to consider adding a delivery option, with the hopes of increasing sales, growing the customer base, and increasing profitability.\n",
    "    AGM team, has decided to bring on board Peak Deliveries primarily because it is a newer operation with a model that takes a percentage cut of the product pricing instead of charging customers a delivery fee. \n",
    "    This is a rather robust model because, the team at AGM are building a strong customer base who would be willing to order meals for delivery while paying Peak Deliveries 18% of the of each meal. \n",
    "    Though in the first look, 18% seems high, as the customer base increases due to good will( not having delivery fees) will componsate and increase sales and thus profits to AGM.\n",
    "    \n",
    "Project Objectives:\n",
    "    AGM, to use Peak's API to send and receive data as a long term plan.\n",
    "    Peak to provide AGM with a JSON file at the end of each day with detailed sales information for that day.\n",
    "    For products, AGM will enter products into Peak's system.\n",
    "    Peak will assign an ID in their system to the product.  \n",
    "    A mapping table to map Peak's IDs to AGM's IDs.  \n",
    "    Customers will have to sign up with Peak, either using the website, the app, or by telephone. \n",
    "    AGM to Validate and/or cleanse the customer data.\n",
    "    Peak to assign  customer ID to each customer.\n",
    "    Peak to create a pickup location for the store and assign their own location ID.  \n",
    "    AGM to receive it and process it so we can plan for possible future expansion to other stores and/or pickup locations.\n",
    "    \n",
    "    \n",
    " Executive Summary:\n",
    " \n",
    " The total no of meals sold are 540, out of which the average no of meals per sale is 5.6 with the total no of sales at 97.\n",
    " The total dollar amount of sales is 6480$ out of which 18% has been paid to Peak delivery systems of amount 1166$. \n",
    " The net amount pocketed by AGM is 5313.6$. As Peak has an outstanding reputation for great, fast, and efficient deliveries, with excellent customer service.  \n",
    " Peak will only deliver to zip codes within a 5 mile radius of the store, we are hoping to increase sales, growing the customer base, and increasing profitability.\n",
    " \n",
    " \n",
    "Key points in Implementation and painpoints:\n",
    " \n",
    "Analysis on continuing to withhold customer data from 3rd parties:\n",
    "As stated in the scenario, like most companies, \n",
    "AGM does not want to give out its customer list to 3rd party sales channels.\n",
    "The downside is, as we have seen, that customer first names, last names, and street addresses will have some variations and not be exact matches.\n",
    "As a result of withholding the customer data to the 3rd party sales channel, it is challenging to match AGM's customer data and the 3rd party vendor.\n",
    "As we have seen in the section 2.5.3, there is 13.4% data that were not sync.\n",
    "This number is high. Therefore, the AGM team has to clean data manually during every batch run. \n",
    "Since the percentage of data mismatch is high, it will have additional cost. Any manual correction requires additional cost and additional time.\n",
    "\n",
    "Give customer data to 3rd party sales channels\n",
    "As a result of sharing customer data to the 3rd party sales channels, the 3rd party sales channel can provide the matched customer list to AGM. \n",
    "If there is any data mismatch then AGM can make 3rd Party Sales Channel accountable to match the customer list and provide the corrected data feed to AGM. \n",
    "AGM will be able to quickly validate the data and process it into their system successfully with minimum or no interruption. \n",
    "This will save the data load time for AGM as well as save the cost with no manual effort.\n",
    "\n",
    "\n",
    "Recommendations\n",
    "\n",
    "Even though the percentage of data mismatch is high, customer data is sensitive.\n",
    "Hence it is not recommend for AGM to perform data integrity in house unless there is any non disclosure agreements. \n",
    "\n",
    "\n"
   ]
  }
 ],
 "metadata": {
  "kernelspec": {
   "display_name": "Python 3",
   "language": "python",
   "name": "python3"
  },
  "language_info": {
   "codemirror_mode": {
    "name": "ipython",
    "version": 3
   },
   "file_extension": ".py",
   "mimetype": "text/x-python",
   "name": "python",
   "nbconvert_exporter": "python",
   "pygments_lexer": "ipython3",
   "version": "3.8.8"
  }
 },
 "nbformat": 4,
 "nbformat_minor": 5
}
